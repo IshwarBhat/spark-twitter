{
 "cells": [
  {
   "cell_type": "code",
   "execution_count": 1,
   "metadata": {
    "collapsed": false
   },
   "outputs": [
    {
     "name": "stdout",
     "output_type": "stream",
     "text": [
      "<pyspark.sql.session.SparkSession object at 0x7f0c21597c90> <pyspark.context.SparkContext object at 0x7f0c21675f10>\n"
     ]
    }
   ],
   "source": [
    "print spark, sc"
   ]
  },
  {
   "cell_type": "code",
   "execution_count": 2,
   "metadata": {
    "collapsed": false
   },
   "outputs": [],
   "source": [
    "tweetJsonDF = spark.read.json('s3n://spark-bucket-ishwar/Donald_Trump.json')\n",
    "# tweetJsonDF.printSchema()"
   ]
  },
  {
   "cell_type": "code",
   "execution_count": 3,
   "metadata": {
    "collapsed": false
   },
   "outputs": [
    {
     "name": "stdout",
     "output_type": "stream",
     "text": [
      "+---------------+---------------+--------+--------------------+--------------+-------------+--------------+------------------+----+\n",
      "|    screen_name|followers_count|verified|                text|      hashtags|retweet_count|favorite_count|possibly_sensitive|lang|\n",
      "+---------------+---------------+--------+--------------------+--------------+-------------+--------------+------------------+----+\n",
      "|_DONALD__trump_|            213|   false|RT @MrLukeJohnsto...|[PlanetEarth2]|       201173|             0|             false|  en|\n",
      "|    queenvexuss|             46|   false|RT @HillaryClinto...| [debatenight]|       100852|             0|             false|  en|\n",
      "|NatalieJPierson|           1403|   false|RT @HillaryClinto...| [debatenight]|       100850|             0|             false|  en|\n",
      "| olyapiputatova|              7|   false|RT @HillaryClinto...|    [VPDebate]|        30181|             0|              null|  en|\n",
      "|        Gas8128|          18290|   false|RT @realDonaldTru...|[AmericaFirst]|        18985|             0|              null|  en|\n",
      "|       _stayll_|             25|   false|RT @realDonaldTru...|[AmericaFirst]|        18985|             0|              null|  en|\n",
      "|       IMRAJRAY|           1118|   false|RT @realDonaldTru...|[AmericaFirst]|        18985|             0|              null|  en|\n",
      "|       ling2054|              7|   false|RT @realDonaldTru...|[AmericaFirst]|        18985|             0|              null|  en|\n",
      "|       IMRAJRAY|           1123|   false|RT @realDonaldTru...|[AmericaFirst]|        18985|             0|              null|  en|\n",
      "| jannie_aminata|            957|   false|RT @ddale8: Donal...|  [TrumpCheck]|        18711|             0|             false|  en|\n",
      "|    polychonces|           5693|   false|RT @pilotsmemes: ...|   [UTProtest]|        18314|             0|              null|  en|\n",
      "|  badlandsjenni|            239|   false|RT @pilotsmemes: ...|   [UTProtest]|        18314|             0|              null|  en|\n",
      "| perfidious_cat|            196|   false|RT @pilotsmemes: ...|   [UTProtest]|        18314|             0|              null|  en|\n",
      "|  ryleeannexoxo|           1357|   false|RT @pilotsmemes: ...|   [UTProtest]|        18313|             0|              null|  en|\n",
      "|   kimtesfayexo|             41|   false|RT @dooleyfunny: ...|   [fucktrump]|        12791|             0|             false|  en|\n",
      "|         KxxngE|            256|   false|RT @dooleyfunny: ...|   [fucktrump]|        12791|             0|             false|  en|\n",
      "|RAYNIQUAPATRICK|              4|   false|RT @natemezmer: 3...|   [Coachella]|        12726|             0|             false|  en|\n",
      "|  MikeMcGWirral|           2704|   false|RT @BernieSanders...| [debatenight]|        12008|             0|             false|  en|\n",
      "|  F34RxXxM4TRiX|            152|   false|RT @Writeintrump:...|  [TrumpTapes]|        11891|             0|             false|  en|\n",
      "|     Liv_Dinkel|            322|   false|RT @Writeintrump:...|  [TrumpTapes]|        11891|             0|             false|  en|\n",
      "+---------------+---------------+--------+--------------------+--------------+-------------+--------------+------------------+----+\n",
      "only showing top 20 rows\n",
      "\n"
     ]
    }
   ],
   "source": [
    "from pyspark.sql.functions import size\n",
    "tweetJsonDF = tweetJsonDF.filter(size(tweetJsonDF['entities.hashtags.text']) > 0)\n",
    "tweetJsonDF = tweetJsonDF.select('user.screen_name', 'user.followers_count','user.verified',\n",
    "                   'text', tweetJsonDF['entities.hashtags.text'].alias('hashtags'),\n",
    "                   'retweet_count', 'favorite_count', 'possibly_sensitive',\n",
    "                   'lang').orderBy('retweet_count', ascending = False)\n",
    "\n",
    "tweetJsonDF.show()\n",
    "# from pyspark.sql import Row\n",
    "# from pyspark.sql.functions import explode\n",
    "# eDF = spark.createDataFrame([Row(a=1, intlist=[1,2,3], mapfield={\"a\": \"b\"})])\n",
    "# eDF.show()\n",
    "# eDF.select(explode('mapfield')).show()"
   ]
  },
  {
   "cell_type": "code",
   "execution_count": 6,
   "metadata": {
    "collapsed": true
   },
   "outputs": [],
   "source": [
    "from operator import add\n",
    "from pyspark.sql import types\n",
    "\n",
    "list_of_lists = [['a','b','c'],['d','e'],['a','b','e','f'],['b']]\n",
    "\n",
    "# Create an RDD from a list of lists\n",
    "rddx = sc.parallelize(list_of_lists)\n",
    "rdd1 = rddx.flatMap(lambda x: x ).map(lambda x: (x,1)).reduceByKey(add) \\\n",
    "           .map(lambda x: (x[1],x[0])).sortByKey(ascending = False).map(lambda x: (x[1],x[0]))\n",
    "print rdd1.take(10)\n",
    "df1 = spark.createDataFrame(rdd1, ['alphabet', 'count'])\n",
    "rdd2 = df1.select('alphabet').rdd\n",
    "print rddx.collect()\n",
    "\n",
    "# Convert a list of lists into a Spark DataFrame\n",
    "dfx = spark.createDataFrame(list_of_lists, schema=types.ArrayType(types.StringType()))\n",
    "dfx = dfx.select(dfx['value'].alias('alphabet_list'))\n",
    "dfx.show()\n",
    "rddy = dfx.rdd.map(lambda row:row['alphabet_list'])\n",
    "print rddy.collect()\n",
    "rdd3 = rddy.flatMap(lambda x: x ).map(lambda x: (x,1)).reduceByKey(add) \\\n",
    "           .map(lambda x: (x[1],x[0])).sortByKey(ascending = False).map(lambda x: (x[1],x[0]))\n",
    "print rdd3.take(10)\n",
    "df2 = spark.createDataFrame(rdd3, ['alphabet', 'count'])\n",
    "df2.show()\n",
    "\n"
   ]
  },
  {
   "cell_type": "code",
   "execution_count": 5,
   "metadata": {
    "collapsed": false
   },
   "outputs": [
    {
     "name": "stdout",
     "output_type": "stream",
     "text": [
      "[(u'Trump2016', 23462), (u'TrumpTrain', 22468), (u'Trump', 11259), (u'MAGA', 10712), (u'SNL', 5951), (u'SoundCloud', 5548), (u'TrumpLeaks', 3733), (u'DonaldTrump', 3577), (u'ThankYouTour2016', 2803), (u'msnbc', 2611)]\n",
      "+----------------+-----+\n",
      "|         hashtag|count|\n",
      "+----------------+-----+\n",
      "|       Trump2016|23462|\n",
      "|      TrumpTrain|22468|\n",
      "|           Trump|11259|\n",
      "|            MAGA|10712|\n",
      "|             SNL| 5951|\n",
      "|      SoundCloud| 5548|\n",
      "|      TrumpLeaks| 3733|\n",
      "|     DonaldTrump| 3577|\n",
      "|ThankYouTour2016| 2803|\n",
      "|           msnbc| 2611|\n",
      "|             cnn| 2486|\n",
      "|ElectoralCollege| 2473|\n",
      "|          PEOTUS| 2365|\n",
      "|    AmericaFirst| 2115|\n",
      "|           amjoy| 2031|\n",
      "|            DAPL| 1780|\n",
      "|      BroseRoyce| 1708|\n",
      "|           AMJoy| 1630|\n",
      "|  NotMyPresident| 1581|\n",
      "|   NorthCarolina| 1503|\n",
      "+----------------+-----+\n",
      "only showing top 20 rows\n",
      "\n"
     ]
    }
   ],
   "source": [
    "from operator import add\n",
    "from pyspark.sql import types\n",
    "# Select just the hashtags column\n",
    "hashtagDF = tweetJsonDF.select('hashtags')\n",
    "hashtagRDD = hashtagDF.rdd.map(lambda row:row['hashtags'])\n",
    "# print hashtagRDD.collect()\n",
    "hashtagRDD_1 = hashtagRDD.flatMap(lambda x: x ).map(lambda x: (x,1)).reduceByKey(add) \\\n",
    "           .map(lambda x: (x[1],x[0])).sortByKey(ascending = False).map(lambda x: (x[1],x[0]))\n",
    "print hashtagRDD_1.take(10)\n",
    "hashtagDF_1 = spark.createDataFrame(hashtagRDD_1, ['hashtag', 'count'])\n",
    "hashtagDF_1.show()\n"
   ]
  },
  {
   "cell_type": "code",
   "execution_count": 6,
   "metadata": {
    "collapsed": false
   },
   "outputs": [
    {
     "name": "stdout",
     "output_type": "stream",
     "text": [
      "+----------------+-----+\n",
      "|         hashtag|count|\n",
      "+----------------+-----+\n",
      "|       Trump2016|23462|\n",
      "|      TrumpTrain|22468|\n",
      "|           Trump|11259|\n",
      "|            MAGA|10712|\n",
      "|             SNL| 5951|\n",
      "|      SoundCloud| 5548|\n",
      "|      TrumpLeaks| 3733|\n",
      "|     DonaldTrump| 3577|\n",
      "|ThankYouTour2016| 2803|\n",
      "|           msnbc| 2611|\n",
      "+----------------+-----+\n",
      "\n",
      "y_max: 23462\n"
     ]
    }
   ],
   "source": [
    "# Limit hashtag Dataframe to top 10 rows\n",
    "from pyspark.sql import functions as F\n",
    "hashtagDF_wc = hashtagDF_1.limit(300)\n",
    "hashtagDF_1 = hashtagDF_1.limit(10)\n",
    "hashtagDF_1.show()\n",
    "\n",
    "# row = hashtagDF_1.agg(F.max(hashtagDF_1['count']).alias('maxcount')).collect()\n",
    "# y_max = row[0]['maxcount']\n",
    "\n",
    "hashtag_pandaDF = hashtagDF_1.toPandas()\n",
    "hashtag_pandaDF['hashtag'] = '#' + hashtag_pandaDF['hashtag'].astype(str)\n",
    "y_max = hashtag_pandaDF.iloc[0][1]\n",
    "print \"y_max:\", y_max"
   ]
  },
  {
   "cell_type": "code",
   "execution_count": 7,
   "metadata": {
    "collapsed": false
   },
   "outputs": [],
   "source": [
    "%matplotlib inline\n",
    "import numpy as np\n",
    "import seaborn as sns\n"
   ]
  },
  {
   "cell_type": "code",
   "execution_count": 8,
   "metadata": {
    "collapsed": false
   },
   "outputs": [
    {
     "data": {
      "text/html": [
       "<div>\n",
       "<table border=\"1\" class=\"dataframe\">\n",
       "  <thead>\n",
       "    <tr style=\"text-align: right;\">\n",
       "      <th></th>\n",
       "      <th>hashtag</th>\n",
       "      <th>count</th>\n",
       "    </tr>\n",
       "  </thead>\n",
       "  <tbody>\n",
       "    <tr>\n",
       "      <th>0</th>\n",
       "      <td>#Trump2016</td>\n",
       "      <td>23462</td>\n",
       "    </tr>\n",
       "    <tr>\n",
       "      <th>1</th>\n",
       "      <td>#TrumpTrain</td>\n",
       "      <td>22468</td>\n",
       "    </tr>\n",
       "    <tr>\n",
       "      <th>2</th>\n",
       "      <td>#Trump</td>\n",
       "      <td>11259</td>\n",
       "    </tr>\n",
       "    <tr>\n",
       "      <th>3</th>\n",
       "      <td>#MAGA</td>\n",
       "      <td>10712</td>\n",
       "    </tr>\n",
       "    <tr>\n",
       "      <th>4</th>\n",
       "      <td>#SNL</td>\n",
       "      <td>5951</td>\n",
       "    </tr>\n",
       "    <tr>\n",
       "      <th>5</th>\n",
       "      <td>#SoundCloud</td>\n",
       "      <td>5548</td>\n",
       "    </tr>\n",
       "    <tr>\n",
       "      <th>6</th>\n",
       "      <td>#TrumpLeaks</td>\n",
       "      <td>3733</td>\n",
       "    </tr>\n",
       "    <tr>\n",
       "      <th>7</th>\n",
       "      <td>#DonaldTrump</td>\n",
       "      <td>3577</td>\n",
       "    </tr>\n",
       "    <tr>\n",
       "      <th>8</th>\n",
       "      <td>#ThankYouTour2016</td>\n",
       "      <td>2803</td>\n",
       "    </tr>\n",
       "    <tr>\n",
       "      <th>9</th>\n",
       "      <td>#msnbc</td>\n",
       "      <td>2611</td>\n",
       "    </tr>\n",
       "  </tbody>\n",
       "</table>\n",
       "</div>"
      ],
      "text/plain": [
       "             hashtag  count\n",
       "0         #Trump2016  23462\n",
       "1        #TrumpTrain  22468\n",
       "2             #Trump  11259\n",
       "3              #MAGA  10712\n",
       "4               #SNL   5951\n",
       "5        #SoundCloud   5548\n",
       "6        #TrumpLeaks   3733\n",
       "7       #DonaldTrump   3577\n",
       "8  #ThankYouTour2016   2803\n",
       "9             #msnbc   2611"
      ]
     },
     "execution_count": 8,
     "metadata": {},
     "output_type": "execute_result"
    }
   ],
   "source": [
    "hashtag_pandaDF"
   ]
  },
  {
   "cell_type": "code",
   "execution_count": 9,
   "metadata": {
    "collapsed": false
   },
   "outputs": [
    {
     "data": {
      "text/plain": [
       "<matplotlib.text.Text at 0x7f0c0b007dd0>"
      ]
     },
     "execution_count": 9,
     "metadata": {},
     "output_type": "execute_result"
    },
    {
     "data": {
      "image/png": "[encoded data removed]",
      "text/plain": [
       "<matplotlib.figure.Figure at 0x7f0c0b55c810>"
      ]
     },
     "metadata": {},
     "output_type": "display_data"
    }
   ],
   "source": [
    "# hashtagDF_1.show()\n",
    "sns.set(style=\"white\")\n",
    "\n",
    "g = sns.barplot(x='hashtag',y='count',data=hashtag_pandaDF, palette=\"BuPu\")\n",
    "g.set_ylabel('Hashtag count')\n",
    "g.set_xlabel('')\n",
    "g.set_xticklabels(g.get_xticklabels(),rotation=90)\n",
    "sns.despine(left=True,bottom=True)\n",
    "sns.plt.title('HASHTAG Popularity')"
   ]
  },
  {
   "cell_type": "code",
   "execution_count": 10,
   "metadata": {
    "collapsed": false
   },
   "outputs": [
    {
     "data": {
      "text/plain": [
       "['spark-class2.cmd',\n",
       " 'beeline.cmd',\n",
       " 'spark-sql',\n",
       " 'pyspark2.cmd',\n",
       " 'run-example',\n",
       " 'derby.log',\n",
       " 'spark-submit',\n",
       " 'Untitled.ipynb',\n",
       " 'cloud-project.ipynb',\n",
       " 'spark-submit2.cmd',\n",
       " 'spark-shell.cmd',\n",
       " 'spark-class.cmd',\n",
       " 'pyspark.cmd',\n",
       " 'beeline',\n",
       " 'load-spark-env.cmd',\n",
       " 'spark-shell',\n",
       " 'run-example.cmd',\n",
       " 'metastore_db',\n",
       " 'sparkR2.cmd',\n",
       " 'pyspark',\n",
       " 'sparkR.cmd',\n",
       " 'load-spark-env.sh',\n",
       " 'spark-shell2.cmd',\n",
       " 'test_notebook.ipynb',\n",
       " 'spark-class',\n",
       " '.ipynb_checkpoints',\n",
       " 'sparkR',\n",
       " 'spark-submit.cmd']"
      ]
     },
     "execution_count": 10,
     "metadata": {},
     "output_type": "execute_result"
    }
   ],
   "source": [
    "import os\n",
    "os.listdir('.')"
   ]
  },
  {
   "cell_type": "code",
   "execution_count": 13,
   "metadata": {
    "collapsed": true
   },
   "outputs": [],
   "source": [
    "# Generating a square wordcloud from the hashtags\n",
    "\n",
    "from os import path\n",
    "from wordcloud import WordCloud"
   ]
  },
  {
   "cell_type": "markdown",
   "metadata": {},
   "source": [
    "<img src=\"https://raw.githubusercontent.com/amueller/word_cloud/master/examples/constitution.png\">"
   ]
  }
 ],
 "metadata": {
  "kernelspec": {
   "display_name": "Python 2",
   "language": "python",
   "name": "python2"
  },
  "language_info": {
   "codemirror_mode": {
    "name": "ipython",
    "version": 2
   },
   "file_extension": ".py",
   "mimetype": "text/x-python",
   "name": "python",
   "nbconvert_exporter": "python",
   "pygments_lexer": "ipython2",
   "version": "2.7.12"
  },
  "name": "cloud-project",
  "notebookId": 3234015362864909
 },
 "nbformat": 4,
 "nbformat_minor": 0
}
